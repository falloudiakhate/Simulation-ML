{
 "cells": [
  {
   "cell_type": "markdown",
   "metadata": {},
   "source": [
    "<img style=\"border:10px solid blue\" src=\"imgs/header.png\">"
   ]
  },
  {
   "cell_type": "markdown",
   "metadata": {},
   "source": [
    "<div style=\"border:10px solid blue\">\n",
    "<h1><center>TEAM</center></h1>\n",
    "<h2><center>Fallou DIAKHATE</center></h2>\n",
    "<h2><center>Faty GUEYE </center></h2>\n",
    "</div>"
   ]
  },
  {
   "cell_type": "markdown",
   "metadata": {},
   "source": [
    " ## `IMPORTATION DES LIBRAIRIES`"
   ]
  },
  {
   "cell_type": "code",
   "execution_count": 60,
   "metadata": {},
   "outputs": [],
   "source": [
    "import numpy as np\n",
    "import pandas as pd\n",
    "import matplotlib.pyplot as plt\n",
    "from sklearn.model_selection import train_test_split\n",
    "from sklearn.ensemble import RandomForestRegressor\n",
    "from sklearn.model_selection import GridSearchCV\n",
    "from sklearn.metrics import mean_squared_error"
   ]
  },
  {
   "cell_type": "markdown",
   "metadata": {},
   "source": [
    "## `Lecture du fichier CSV`"
   ]
  },
  {
   "cell_type": "markdown",
   "metadata": {},
   "source": [
    "Dans cette première partie du code nous avons utilisé la bibliothèque pandas de python pour faire une lecture du fichier final.csv qu'on a obtenue suite à notre simulation\n"
   ]
  },
  {
   "cell_type": "code",
   "execution_count": 3,
   "metadata": {},
   "outputs": [],
   "source": [
    "simulation_data = pd.read_csv(\"Data/final.csv\")"
   ]
  },
  {
   "cell_type": "markdown",
   "metadata": {},
   "source": [
    "## `EXPLORATION ET EXPLOITATION DES DONNEES`"
   ]
  },
  {
   "cell_type": "code",
   "execution_count": 4,
   "metadata": {},
   "outputs": [
    {
     "data": {
      "text/html": [
       "<div>\n",
       "<style scoped>\n",
       "    .dataframe tbody tr th:only-of-type {\n",
       "        vertical-align: middle;\n",
       "    }\n",
       "\n",
       "    .dataframe tbody tr th {\n",
       "        vertical-align: top;\n",
       "    }\n",
       "\n",
       "    .dataframe thead th {\n",
       "        text-align: right;\n",
       "    }\n",
       "</style>\n",
       "<table border=\"1\" class=\"dataframe\">\n",
       "  <thead>\n",
       "    <tr style=\"text-align: right;\">\n",
       "      <th></th>\n",
       "      <th>CustomerType</th>\n",
       "      <th>ArrivalTime</th>\n",
       "      <th>RVector</th>\n",
       "      <th>QueueSize</th>\n",
       "      <th>LES</th>\n",
       "      <th>NbAgents</th>\n",
       "      <th>WaitingTime</th>\n",
       "    </tr>\n",
       "  </thead>\n",
       "  <tbody>\n",
       "    <tr>\n",
       "      <th>0</th>\n",
       "      <td>30175</td>\n",
       "      <td>29001.0</td>\n",
       "      <td>0</td>\n",
       "      <td>0</td>\n",
       "      <td>0.0</td>\n",
       "      <td>78</td>\n",
       "      <td>1.0</td>\n",
       "    </tr>\n",
       "    <tr>\n",
       "      <th>1</th>\n",
       "      <td>30560</td>\n",
       "      <td>29077.0</td>\n",
       "      <td>0</td>\n",
       "      <td>0</td>\n",
       "      <td>0.0</td>\n",
       "      <td>64</td>\n",
       "      <td>1.0</td>\n",
       "    </tr>\n",
       "    <tr>\n",
       "      <th>2</th>\n",
       "      <td>30175</td>\n",
       "      <td>29287.0</td>\n",
       "      <td>0</td>\n",
       "      <td>0</td>\n",
       "      <td>1.0</td>\n",
       "      <td>78</td>\n",
       "      <td>1.0</td>\n",
       "    </tr>\n",
       "    <tr>\n",
       "      <th>3</th>\n",
       "      <td>30175</td>\n",
       "      <td>29358.0</td>\n",
       "      <td>0</td>\n",
       "      <td>0</td>\n",
       "      <td>1.0</td>\n",
       "      <td>78</td>\n",
       "      <td>1.0</td>\n",
       "    </tr>\n",
       "    <tr>\n",
       "      <th>4</th>\n",
       "      <td>30175</td>\n",
       "      <td>29350.0</td>\n",
       "      <td>0</td>\n",
       "      <td>0</td>\n",
       "      <td>1.0</td>\n",
       "      <td>78</td>\n",
       "      <td>1.0</td>\n",
       "    </tr>\n",
       "  </tbody>\n",
       "</table>\n",
       "</div>"
      ],
      "text/plain": [
       "   CustomerType  ArrivalTime  RVector  QueueSize  LES  NbAgents  WaitingTime\n",
       "0         30175      29001.0        0          0  0.0        78          1.0\n",
       "1         30560      29077.0        0          0  0.0        64          1.0\n",
       "2         30175      29287.0        0          0  1.0        78          1.0\n",
       "3         30175      29358.0        0          0  1.0        78          1.0\n",
       "4         30175      29350.0        0          0  1.0        78          1.0"
      ]
     },
     "execution_count": 4,
     "metadata": {},
     "output_type": "execute_result"
    }
   ],
   "source": [
    "simulation_data.head()"
   ]
  },
  {
   "cell_type": "code",
   "execution_count": 10,
   "metadata": {},
   "outputs": [
    {
     "data": {
      "text/html": [
       "<div>\n",
       "<style scoped>\n",
       "    .dataframe tbody tr th:only-of-type {\n",
       "        vertical-align: middle;\n",
       "    }\n",
       "\n",
       "    .dataframe tbody tr th {\n",
       "        vertical-align: top;\n",
       "    }\n",
       "\n",
       "    .dataframe thead th {\n",
       "        text-align: right;\n",
       "    }\n",
       "</style>\n",
       "<table border=\"1\" class=\"dataframe\">\n",
       "  <thead>\n",
       "    <tr style=\"text-align: right;\">\n",
       "      <th></th>\n",
       "      <th>CustomerType</th>\n",
       "      <th>ArrivalTime</th>\n",
       "      <th>RVector</th>\n",
       "      <th>QueueSize</th>\n",
       "      <th>LES</th>\n",
       "      <th>NbAgents</th>\n",
       "      <th>WaitingTime</th>\n",
       "    </tr>\n",
       "  </thead>\n",
       "  <tbody>\n",
       "    <tr>\n",
       "      <th>count</th>\n",
       "      <td>1.462901e+06</td>\n",
       "      <td>1.462901e+06</td>\n",
       "      <td>1.462901e+06</td>\n",
       "      <td>1.462901e+06</td>\n",
       "      <td>1.462901e+06</td>\n",
       "      <td>1.462901e+06</td>\n",
       "      <td>1.462901e+06</td>\n",
       "    </tr>\n",
       "    <tr>\n",
       "      <th>mean</th>\n",
       "      <td>3.026659e+04</td>\n",
       "      <td>4.553522e+04</td>\n",
       "      <td>5.719347e+00</td>\n",
       "      <td>1.783729e+00</td>\n",
       "      <td>3.666904e+01</td>\n",
       "      <td>7.700996e+01</td>\n",
       "      <td>3.940482e+01</td>\n",
       "    </tr>\n",
       "    <tr>\n",
       "      <th>std</th>\n",
       "      <td>1.668257e+02</td>\n",
       "      <td>8.987370e+03</td>\n",
       "      <td>1.301327e+01</td>\n",
       "      <td>4.435977e+00</td>\n",
       "      <td>7.736276e+01</td>\n",
       "      <td>2.061980e+01</td>\n",
       "      <td>7.995670e+01</td>\n",
       "    </tr>\n",
       "    <tr>\n",
       "      <th>min</th>\n",
       "      <td>3.006600e+04</td>\n",
       "      <td>2.735000e+04</td>\n",
       "      <td>0.000000e+00</td>\n",
       "      <td>0.000000e+00</td>\n",
       "      <td>0.000000e+00</td>\n",
       "      <td>1.000000e+00</td>\n",
       "      <td>0.000000e+00</td>\n",
       "    </tr>\n",
       "    <tr>\n",
       "      <th>25%</th>\n",
       "      <td>3.017500e+04</td>\n",
       "      <td>3.801900e+04</td>\n",
       "      <td>0.000000e+00</td>\n",
       "      <td>0.000000e+00</td>\n",
       "      <td>1.000000e+00</td>\n",
       "      <td>6.400000e+01</td>\n",
       "      <td>1.000000e+00</td>\n",
       "    </tr>\n",
       "    <tr>\n",
       "      <th>50%</th>\n",
       "      <td>3.017500e+04</td>\n",
       "      <td>4.486200e+04</td>\n",
       "      <td>0.000000e+00</td>\n",
       "      <td>0.000000e+00</td>\n",
       "      <td>1.000000e+00</td>\n",
       "      <td>7.900000e+01</td>\n",
       "      <td>1.000000e+00</td>\n",
       "    </tr>\n",
       "    <tr>\n",
       "      <th>75%</th>\n",
       "      <td>3.024100e+04</td>\n",
       "      <td>5.256900e+04</td>\n",
       "      <td>5.000000e+00</td>\n",
       "      <td>1.000000e+00</td>\n",
       "      <td>3.400000e+01</td>\n",
       "      <td>9.300000e+01</td>\n",
       "      <td>4.100000e+01</td>\n",
       "    </tr>\n",
       "    <tr>\n",
       "      <th>max</th>\n",
       "      <td>3.076400e+04</td>\n",
       "      <td>7.198400e+04</td>\n",
       "      <td>1.410000e+02</td>\n",
       "      <td>6.000000e+01</td>\n",
       "      <td>1.479000e+03</td>\n",
       "      <td>1.210000e+02</td>\n",
       "      <td>1.495000e+03</td>\n",
       "    </tr>\n",
       "  </tbody>\n",
       "</table>\n",
       "</div>"
      ],
      "text/plain": [
       "       CustomerType   ArrivalTime       RVector     QueueSize           LES  \\\n",
       "count  1.462901e+06  1.462901e+06  1.462901e+06  1.462901e+06  1.462901e+06   \n",
       "mean   3.026659e+04  4.553522e+04  5.719347e+00  1.783729e+00  3.666904e+01   \n",
       "std    1.668257e+02  8.987370e+03  1.301327e+01  4.435977e+00  7.736276e+01   \n",
       "min    3.006600e+04  2.735000e+04  0.000000e+00  0.000000e+00  0.000000e+00   \n",
       "25%    3.017500e+04  3.801900e+04  0.000000e+00  0.000000e+00  1.000000e+00   \n",
       "50%    3.017500e+04  4.486200e+04  0.000000e+00  0.000000e+00  1.000000e+00   \n",
       "75%    3.024100e+04  5.256900e+04  5.000000e+00  1.000000e+00  3.400000e+01   \n",
       "max    3.076400e+04  7.198400e+04  1.410000e+02  6.000000e+01  1.479000e+03   \n",
       "\n",
       "           NbAgents   WaitingTime  \n",
       "count  1.462901e+06  1.462901e+06  \n",
       "mean   7.700996e+01  3.940482e+01  \n",
       "std    2.061980e+01  7.995670e+01  \n",
       "min    1.000000e+00  0.000000e+00  \n",
       "25%    6.400000e+01  1.000000e+00  \n",
       "50%    7.900000e+01  1.000000e+00  \n",
       "75%    9.300000e+01  4.100000e+01  \n",
       "max    1.210000e+02  1.495000e+03  "
      ]
     },
     "execution_count": 10,
     "metadata": {},
     "output_type": "execute_result"
    }
   ],
   "source": [
    "simulation_data.describe()"
   ]
  },
  {
   "cell_type": "code",
   "execution_count": 5,
   "metadata": {},
   "outputs": [
    {
     "name": "stdout",
     "output_type": "stream",
     "text": [
      "SHAPE DES DONNEES DE SIMULATION >>>>>>>>>>>> (1462901, 7)\n"
     ]
    }
   ],
   "source": [
    "print(\"SHAPE DES DONNEES DE SIMULATION >>>>>>>>>>>> \"+str(simulation_data.shape))"
   ]
  },
  {
   "cell_type": "code",
   "execution_count": 6,
   "metadata": {},
   "outputs": [
    {
     "name": "stdout",
     "output_type": "stream",
     "text": [
      "LES VARIABLES DES DONNEES DE SIMULATION \n",
      "\n",
      "Index(['CustomerType', 'ArrivalTime', 'RVector', 'QueueSize', 'LES',\n",
      "       'NbAgents', 'WaitingTime'],\n",
      "      dtype='object')\n"
     ]
    }
   ],
   "source": [
    "print(\"LES VARIABLES DES DONNEES DE SIMULATION \\n\\n\"+str(simulation_data.keys()))"
   ]
  },
  {
   "cell_type": "markdown",
   "metadata": {},
   "source": [
    "* CustomerType : \n",
    "* ArrivalTime : \n",
    "* RVector :\n",
    "* QueueSize :\n",
    "* LES :\n",
    "* NbAgents :\n",
    "* WaitingTime :"
   ]
  },
  {
   "cell_type": "markdown",
   "metadata": {},
   "source": [
    "## `VISUALISATION DES DONNEES`"
   ]
  },
  {
   "cell_type": "code",
   "execution_count": 8,
   "metadata": {},
   "outputs": [
    {
     "data": {
      "image/png": "[encoded data removed]",
      "text/plain": [
       "<Figure size 1800x1800 with 9 Axes>"
      ]
     },
     "metadata": {
      "needs_background": "light"
     },
     "output_type": "display_data"
    }
   ],
   "source": [
    "simulation_data.hist(bins=50, figsize=(25,25))\n",
    "plt.show()"
   ]
  },
  {
   "cell_type": "markdown",
   "metadata": {},
   "source": [
    "## `TABLEAU DE CORRELATION`"
   ]
  },
  {
   "cell_type": "code",
   "execution_count": 12,
   "metadata": {
    "collapsed": true,
    "jupyter": {
     "outputs_hidden": true
    }
   },
   "outputs": [
    {
     "data": {
      "text/html": [
       "<div>\n",
       "<style scoped>\n",
       "    .dataframe tbody tr th:only-of-type {\n",
       "        vertical-align: middle;\n",
       "    }\n",
       "\n",
       "    .dataframe tbody tr th {\n",
       "        vertical-align: top;\n",
       "    }\n",
       "\n",
       "    .dataframe thead th {\n",
       "        text-align: right;\n",
       "    }\n",
       "</style>\n",
       "<table border=\"1\" class=\"dataframe\">\n",
       "  <thead>\n",
       "    <tr style=\"text-align: right;\">\n",
       "      <th></th>\n",
       "      <th>CustomerType</th>\n",
       "      <th>ArrivalTime</th>\n",
       "      <th>RVector</th>\n",
       "      <th>QueueSize</th>\n",
       "      <th>LES</th>\n",
       "      <th>NbAgents</th>\n",
       "      <th>WaitingTime</th>\n",
       "    </tr>\n",
       "  </thead>\n",
       "  <tbody>\n",
       "    <tr>\n",
       "      <td>CustomerType</td>\n",
       "      <td>1.000000</td>\n",
       "      <td>0.002991</td>\n",
       "      <td>0.015177</td>\n",
       "      <td>-0.037756</td>\n",
       "      <td>0.009944</td>\n",
       "      <td>-0.291312</td>\n",
       "      <td>0.013598</td>\n",
       "    </tr>\n",
       "    <tr>\n",
       "      <td>ArrivalTime</td>\n",
       "      <td>0.002991</td>\n",
       "      <td>1.000000</td>\n",
       "      <td>-0.019300</td>\n",
       "      <td>-0.003412</td>\n",
       "      <td>0.105540</td>\n",
       "      <td>-0.040552</td>\n",
       "      <td>0.111985</td>\n",
       "    </tr>\n",
       "    <tr>\n",
       "      <td>RVector</td>\n",
       "      <td>0.015177</td>\n",
       "      <td>-0.019300</td>\n",
       "      <td>1.000000</td>\n",
       "      <td>0.816143</td>\n",
       "      <td>0.839384</td>\n",
       "      <td>0.074306</td>\n",
       "      <td>0.844659</td>\n",
       "    </tr>\n",
       "    <tr>\n",
       "      <td>QueueSize</td>\n",
       "      <td>-0.037756</td>\n",
       "      <td>-0.003412</td>\n",
       "      <td>0.816143</td>\n",
       "      <td>1.000000</td>\n",
       "      <td>0.748798</td>\n",
       "      <td>0.171761</td>\n",
       "      <td>0.750172</td>\n",
       "    </tr>\n",
       "    <tr>\n",
       "      <td>LES</td>\n",
       "      <td>0.009944</td>\n",
       "      <td>0.105540</td>\n",
       "      <td>0.839384</td>\n",
       "      <td>0.748798</td>\n",
       "      <td>1.000000</td>\n",
       "      <td>0.020913</td>\n",
       "      <td>0.915783</td>\n",
       "    </tr>\n",
       "    <tr>\n",
       "      <td>NbAgents</td>\n",
       "      <td>-0.291312</td>\n",
       "      <td>-0.040552</td>\n",
       "      <td>0.074306</td>\n",
       "      <td>0.171761</td>\n",
       "      <td>0.020913</td>\n",
       "      <td>1.000000</td>\n",
       "      <td>0.013360</td>\n",
       "    </tr>\n",
       "    <tr>\n",
       "      <td>WaitingTime</td>\n",
       "      <td>0.013598</td>\n",
       "      <td>0.111985</td>\n",
       "      <td>0.844659</td>\n",
       "      <td>0.750172</td>\n",
       "      <td>0.915783</td>\n",
       "      <td>0.013360</td>\n",
       "      <td>1.000000</td>\n",
       "    </tr>\n",
       "  </tbody>\n",
       "</table>\n",
       "</div>"
      ],
      "text/plain": [
       "              CustomerType  ArrivalTime   RVector  QueueSize       LES  \\\n",
       "CustomerType      1.000000     0.002991  0.015177  -0.037756  0.009944   \n",
       "ArrivalTime       0.002991     1.000000 -0.019300  -0.003412  0.105540   \n",
       "RVector           0.015177    -0.019300  1.000000   0.816143  0.839384   \n",
       "QueueSize        -0.037756    -0.003412  0.816143   1.000000  0.748798   \n",
       "LES               0.009944     0.105540  0.839384   0.748798  1.000000   \n",
       "NbAgents         -0.291312    -0.040552  0.074306   0.171761  0.020913   \n",
       "WaitingTime       0.013598     0.111985  0.844659   0.750172  0.915783   \n",
       "\n",
       "              NbAgents  WaitingTime  \n",
       "CustomerType -0.291312     0.013598  \n",
       "ArrivalTime  -0.040552     0.111985  \n",
       "RVector       0.074306     0.844659  \n",
       "QueueSize     0.171761     0.750172  \n",
       "LES           0.020913     0.915783  \n",
       "NbAgents      1.000000     0.013360  \n",
       "WaitingTime   0.013360     1.000000  "
      ]
     },
     "execution_count": 12,
     "metadata": {},
     "output_type": "execute_result"
    }
   ],
   "source": [
    "simulation_data.corr()"
   ]
  },
  {
   "cell_type": "markdown",
   "metadata": {},
   "source": [
    "## `SEGMENTATION DES DONNEES DE SIMULATION EN DONNEES DE TEST ET DE SIMULATION`"
   ]
  },
  {
   "cell_type": "code",
   "execution_count": 13,
   "metadata": {},
   "outputs": [],
   "source": [
    "Y = np.array(simulation_data['WaitingTime'])"
   ]
  },
  {
   "cell_type": "code",
   "execution_count": 14,
   "metadata": {},
   "outputs": [],
   "source": [
    "X = np.array(simulation_data.drop('WaitingTime', axis = 1))"
   ]
  },
  {
   "cell_type": "code",
   "execution_count": 15,
   "metadata": {},
   "outputs": [],
   "source": [
    "X_train , X_test, Y_train, Y_test = train_test_split (X, Y, random_state =0 ,train_size =0.2)"
   ]
  },
  {
   "cell_type": "code",
   "execution_count": 16,
   "metadata": {},
   "outputs": [
    {
     "name": "stdout",
     "output_type": "stream",
     "text": [
      "Training Features Shape >>>>>>>>>>>>  (292580, 6)\n",
      "Training Labels Shape >>>>>>>>>>>>  (292580,)\n",
      "Testing Features Shape >>>>>>>>>>>>  (1170321, 6)\n",
      "Testing Labels Shape >>>>>>>>>>>>  (1170321,)\n"
     ]
    }
   ],
   "source": [
    "print('Training Features Shape >>>>>>>>>>>> ', X_train.shape)\n",
    "print('Training Labels Shape >>>>>>>>>>>> ', Y_train.shape)\n",
    "print('Testing Features Shape >>>>>>>>>>>> ', X_test.shape)\n",
    "print('Testing Labels Shape >>>>>>>>>>>> ', Y_test.shape)"
   ]
  },
  {
   "cell_type": "markdown",
   "metadata": {},
   "source": [
    "## `ENTRAINEMENT DU PREDICATEUR`"
   ]
  },
  {
   "cell_type": "code",
   "execution_count": 62,
   "metadata": {},
   "outputs": [
    {
     "data": {
      "text/plain": [
       "RandomForestRegressor(bootstrap=True, criterion='mse', max_depth=None,\n",
       "                      max_features='auto', max_leaf_nodes=None,\n",
       "                      min_impurity_decrease=0.0, min_impurity_split=None,\n",
       "                      min_samples_leaf=1, min_samples_split=2,\n",
       "                      min_weight_fraction_leaf=0.0, n_estimators=2, n_jobs=None,\n",
       "                      oob_score=False, random_state=None, verbose=0,\n",
       "                      warm_start=False)"
      ]
     },
     "execution_count": 62,
     "metadata": {},
     "output_type": "execute_result"
    }
   ],
   "source": [
    "predicteur = RandomForestRegressor(n_estimators=2)\n",
    "predicteur.fit(X_train, Y_train)"
   ]
  },
  {
   "cell_type": "markdown",
   "metadata": {},
   "source": [
    "## `LES MESURES DE PERFORMANCES DU PREDICATEUR`"
   ]
  },
  {
   "cell_type": "markdown",
   "metadata": {},
   "source": [
    "* LES SCORES"
   ]
  },
  {
   "cell_type": "code",
   "execution_count": 27,
   "metadata": {},
   "outputs": [
    {
     "name": "stdout",
     "output_type": "stream",
     "text": [
      "Training Score Du Predicteur >>>>>>>> 0.960556072857555\n"
     ]
    }
   ],
   "source": [
    "training_score = predicteur.score(X_train, Y_train)\n",
    "print(\"Training Score Du Predicteur >>>>>>>> \"+str(training_score))"
   ]
  },
  {
   "cell_type": "code",
   "execution_count": 38,
   "metadata": {},
   "outputs": [
    {
     "data": {
      "text/plain": [
       "array([[1., 1., 0., ..., 1., 1., 1.]])"
      ]
     },
     "execution_count": 38,
     "metadata": {},
     "output_type": "execute_result"
    }
   ],
   "source": [
    "Y_test.reshape(1, -1)"
   ]
  },
  {
   "cell_type": "code",
   "execution_count": 57,
   "metadata": {},
   "outputs": [
    {
     "name": "stdout",
     "output_type": "stream",
     "text": [
      "Test Score Du Predicteur >>>>>>>> 0.8691253490284996\n"
     ]
    }
   ],
   "source": [
    "test_score = predicteur.score(X_test, Y_test)\n",
    "print(\"Test Score Du Predicteur >>>>>>>> \"+str(test_score))"
   ]
  },
  {
   "cell_type": "markdown",
   "metadata": {},
   "source": [
    "* MSE"
   ]
  },
  {
   "cell_type": "code",
   "execution_count": 64,
   "metadata": {},
   "outputs": [
    {
     "name": "stdout",
     "output_type": "stream",
     "text": [
      "MSE >>>>>>>> 833.1170451386218\n"
     ]
    }
   ],
   "source": [
    "Y_predict = predicteur.predict(X_test)\n",
    "mse = mean_squared_error(Y_test, Y_predict)\n",
    "print(\"MSE >>>>>>>> \"+str(mse))"
   ]
  },
  {
   "cell_type": "markdown",
   "metadata": {},
   "source": [
    "## `AMELIORATION DU MODELE`"
   ]
  },
  {
   "cell_type": "markdown",
   "metadata": {},
   "source": [
    "* SCORE"
   ]
  },
  {
   "cell_type": "code",
   "execution_count": 54,
   "metadata": {},
   "outputs": [
    {
     "data": {
      "text/plain": [
       "RandomForestRegressor(bootstrap=True, criterion='mse', max_depth=None,\n",
       "                      max_features='auto', max_leaf_nodes=None,\n",
       "                      min_impurity_decrease=0.0, min_impurity_split=None,\n",
       "                      min_samples_leaf=1, min_samples_split=2,\n",
       "                      min_weight_fraction_leaf=0.0, n_estimators=50,\n",
       "                      n_jobs=None, oob_score=False, random_state=None,\n",
       "                      verbose=0, warm_start=False)"
      ]
     },
     "execution_count": 54,
     "metadata": {},
     "output_type": "execute_result"
    }
   ],
   "source": [
    "best_predicteur = RandomForestRegressor(n_estimators=50)\n",
    "best_predicteur.fit(X_train, Y_train)"
   ]
  },
  {
   "cell_type": "code",
   "execution_count": 58,
   "metadata": {},
   "outputs": [
    {
     "name": "stdout",
     "output_type": "stream",
     "text": [
      "Training Score Du Predicteur >>>>>>>> 0.9873683078402364\n"
     ]
    }
   ],
   "source": [
    "training_score = best_predicteur.score(X_train, Y_train)\n",
    "print(\"Training Score Du Predicteur >>>>>>>> \"+str(training_score))"
   ]
  },
  {
   "cell_type": "code",
   "execution_count": 59,
   "metadata": {},
   "outputs": [
    {
     "name": "stdout",
     "output_type": "stream",
     "text": [
      "Test Score Du Predicteur >>>>>>>> 0.9134614319683326\n"
     ]
    }
   ],
   "source": [
    "test_score = best_predicteur.score(X_test, Y_test)\n",
    "print(\"Test Score Du Predicteur >>>>>>>> \"+str(test_score))"
   ]
  },
  {
   "cell_type": "markdown",
   "metadata": {},
   "source": [
    "* MSE"
   ]
  },
  {
   "cell_type": "code",
   "execution_count": 66,
   "metadata": {},
   "outputs": [
    {
     "name": "stdout",
     "output_type": "stream",
     "text": [
      "MSE >>>>>>>> 552.794076138522\n"
     ]
    }
   ],
   "source": [
    "Y_predict = best_predicteur.predict(X_test)\n",
    "mse = mean_squared_error(Y_test, Y_predict)\n",
    "print(\"MSE >>>>>>>> \"+str(mse))"
   ]
  },
  {
   "cell_type": "code",
   "execution_count": null,
   "metadata": {},
   "outputs": [],
   "source": []
  }
 ],
 "metadata": {
  "kernelspec": {
   "display_name": "Python 3",
   "language": "python",
   "name": "python3"
  },
  "language_info": {
   "codemirror_mode": {
    "name": "ipython",
    "version": 3
   },
   "file_extension": ".py",
   "mimetype": "text/x-python",
   "name": "python",
   "nbconvert_exporter": "python",
   "pygments_lexer": "ipython3",
   "version": "3.7.4"
  }
 },
 "nbformat": 4,
 "nbformat_minor": 4
}
